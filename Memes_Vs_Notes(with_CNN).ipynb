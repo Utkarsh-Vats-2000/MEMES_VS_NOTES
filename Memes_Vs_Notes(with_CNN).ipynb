{
  "nbformat": 4,
  "nbformat_minor": 0,
  "metadata": {
    "colab": {
      "name": "Memes Vs Notes(with CNN).ipynb",
      "provenance": [],
      "collapsed_sections": [],
      "authorship_tag": "ABX9TyNLdSyHTpDXpveoGz8cqgXp",
      "include_colab_link": true
    },
    "kernelspec": {
      "name": "python3",
      "display_name": "Python 3"
    }
  },
  "cells": [
    {
      "cell_type": "markdown",
      "metadata": {
        "id": "view-in-github",
        "colab_type": "text"
      },
      "source": [
        "<a href=\"https://colab.research.google.com/github/utkarsh8273/MEMES_VS_NOTES/blob/master/Memes_Vs_Notes(with_CNN).ipynb\" target=\"_parent\"><img src=\"https://colab.research.google.com/assets/colab-badge.svg\" alt=\"Open In Colab\"/></a>"
      ]
    },
    {
      "cell_type": "code",
      "metadata": {
        "id": "EJc3hDDJT6I5",
        "colab_type": "code",
        "colab": {}
      },
      "source": [
        "import numpy as np\n",
        "import pandas as pd\n",
        "from matplotlib import pyplot as plt\n",
        "import h5py\n",
        "import torch\n",
        "import torch.nn as nn\n",
        "import torch.nn.functional as F\n",
        "import cv2\n",
        "import glob"
      ],
      "execution_count": 3,
      "outputs": []
    },
    {
      "cell_type": "code",
      "metadata": {
        "id": "759RSu0JT_OH",
        "colab_type": "code",
        "colab": {
          "base_uri": "https://localhost:8080/",
          "height": 34
        },
        "outputId": "505f875c-3179-45a9-a62e-4006dc965199"
      },
      "source": [
        "from google.colab import drive\n",
        "drive.mount('/content/gdrive',force_remount=True)\n",
        "path_meme = glob.glob('/content/gdrive/My Drive/Stage_2/Memes/*.jpg')\n",
        "path_notes = glob.glob('/content/gdrive/My Drive/Stage_2/Notes/*.jpg')"
      ],
      "execution_count": 4,
      "outputs": [
        {
          "output_type": "stream",
          "text": [
            "Mounted at /content/gdrive\n"
          ],
          "name": "stdout"
        }
      ]
    },
    {
      "cell_type": "code",
      "metadata": {
        "id": "2jzZ8MOsUOoB",
        "colab_type": "code",
        "colab": {
          "base_uri": "https://localhost:8080/",
          "height": 1000
        },
        "outputId": "c527574f-332a-4f89-d8d3-053d39333680"
      },
      "source": [
        "X_train = np.zeros((1000,64,64,3))\n",
        "Y_train = np.zeros((1,1000))\n",
        "X_val = np.zeros((300,64,64,3))\n",
        "Y_val = np.zeros((1,300))\n",
        "X_test = np.zeros((300,64,64,3))\n",
        "Y_test = np.zeros((1,300))\n",
        "k = 0\n",
        "for i in path_meme :\n",
        "  img = cv2.imread(i)\n",
        "  img = np.array(cv2.resize(img,(64,64)))\n",
        "  if k<500 :\n",
        "    X_train[k,:,:,:] = np.copy(img)\n",
        "    Y_train[:,k] = 1\n",
        "  elif k >= 500 and k < 650:\n",
        "    X_val[k-500,:] = np.copy(img)\n",
        "    Y_val[:,k-500] = 1\n",
        "  elif k >= 650 and k < 800 :\n",
        "    X_test[k-650,:] = np.copy(img)\n",
        "    Y_test[:,k-650] = 1\n",
        "  else :\n",
        "    break \n",
        "  k = k + 1\n",
        "  print(k)\n",
        "k = 500\n",
        "for i in path_notes :\n",
        "  img = cv2.imread(i)\n",
        "  img = np.array(cv2.resize(img,(64,64)))\n",
        "  if k<1000 :\n",
        "    X_train[k,:,:,:] = np.copy(img)\n",
        "    Y_train[:,k] = 0\n",
        "  elif k>=1000 and k<1150 :\n",
        "    X_val[k-850,:] = np.copy(img)\n",
        "    Y_val[:,k-850] = 0\n",
        "  elif k >= 1150 and k < 1300 :\n",
        "    X_test[k-1000,:] = np.copy(img)\n",
        "    Y_test[:,k-1000] = 0\n",
        "  k = k + 1\n",
        "  print(k)\n",
        "shuffle_index = np.random.permutation(X_train.shape[0])\n",
        "X_train,Y_train = X_train[shuffle_index,:,:,:] , Y_train[:,shuffle_index]\n",
        "\"\"\"shuffle_index = np.random.permutation(X_val.shape[0])\n",
        "X_val,Y_val = X_val[shuffle_index,:,:,:] , Y_val[:,shuffle_index]\"\"\""
      ],
      "execution_count": 6,
      "outputs": [
        {
          "output_type": "stream",
          "text": [
            "1\n",
            "1310\n"
          ],
          "name": "stdout"
        },
        {
          "output_type": "execute_result",
          "data": {
            "application/vnd.google.colaboratory.intrinsic+json": {
              "type": "string"
            },
            "text/plain": [
              "'shuffle_index = np.random.permutation(X_val.shape[0])\\nX_val,Y_val = X_val[shuffle_index,:,:,:] , Y_val[:,shuffle_index]'"
            ]
          },
          "metadata": {
            "tags": []
          },
          "execution_count": 6
        }
      ]
    },
    {
      "cell_type": "code",
      "metadata": {
        "id": "bHAtUAPeUdR7",
        "colab_type": "code",
        "colab": {
          "base_uri": "https://localhost:8080/",
          "height": 119
        },
        "outputId": "6c864b5a-b7e0-4fc2-dbea-a42347b90ae4"
      },
      "source": [
        "X_train = X_train/255\n",
        "X_val = X_val/255\n",
        "X_test = X_test/255\n",
        "Y_val = Y_val.T\n",
        "Y_train = Y_train.T\n",
        "Y_test = Y_test.T\n",
        "X_train = torch.from_numpy(X_train).float()\n",
        "Y_train = torch.from_numpy(Y_train).float()\n",
        "X_val = torch.from_numpy(X_val).float()\n",
        "Y_val = torch.from_numpy(Y_val).float()\n",
        "X_test = torch.from_numpy(X_test).float()\n",
        "Y_test = torch.from_numpy(Y_test).float()\n",
        "X_train = X_train.permute(0,3,1,2)\n",
        "X_val = X_val.permute(0,3,1,2)\n",
        "X_test = X_test.permute(0,3,1,2)\n",
        "print(X_train.size())\n",
        "print(Y_train.size())\n",
        "print(X_val.size())\n",
        "print(Y_val.size())\n",
        "print(X_test.size())\n",
        "print(Y_test.size())"
      ],
      "execution_count": 7,
      "outputs": [
        {
          "output_type": "stream",
          "text": [
            "torch.Size([1000, 3, 64, 64])\n",
            "torch.Size([1000, 1])\n",
            "torch.Size([300, 3, 64, 64])\n",
            "torch.Size([300, 1])\n",
            "torch.Size([300, 3, 64, 64])\n",
            "torch.Size([300, 1])\n"
          ],
          "name": "stdout"
        }
      ]
    },
    {
      "cell_type": "code",
      "metadata": {
        "id": "Ckn6j2uY8KRB",
        "colab_type": "code",
        "colab": {}
      },
      "source": [
        "class Net(nn.Module) :\n",
        "  def __init__(self) :\n",
        "    super(Net, self).__init__()\n",
        "    self.conv1 = nn.Conv2d(3,16,33)\n",
        "    self.conv2 = nn.Conv2d(16,64,11)\n",
        "    self.pool  = nn.MaxPool2d(2,2)\n",
        "    self.conv3 = nn.Conv2d(64,128,7)\n",
        "    self.fc1   = nn.Linear(5*5*128,500)\n",
        "    self.fc2   = nn.Linear(500,50)\n",
        "    self.fc3   = nn.Linear(50,1)\n",
        "    self.output = nn.Sigmoid()\n",
        "  def forward(self,X) :\n",
        "    X = F.relu(self.conv1(X))\n",
        "    #print(X.size())\n",
        "    X = self.conv2(X)\n",
        "    #print(X.size())\n",
        "    X = self.pool(X)\n",
        "    #print(X.size())\n",
        "    X = F.relu(self.conv3(X))\n",
        "    #print(X.size())\n",
        "    X = X.view(X.size(0),-1)\n",
        "    #print(X.size())\n",
        "    X = F.relu(self.fc1(X))\n",
        "    #print(X.size())\n",
        "    X = F.relu(self.fc2(X))\n",
        "    #print(X.size())\n",
        "    X = self.fc3(X)\n",
        "    #print(X.size())\n",
        "    X = self.output(X)\n",
        "    #print(X.size())\n",
        "    return X\n",
        "net = Net()\n",
        "opt = torch.optim.Adam(net.parameters(), lr=0.0001, betas=(0.999, 0.999))\n",
        "criterion = nn.BCELoss()"
      ],
      "execution_count": 28,
      "outputs": []
    },
    {
      "cell_type": "code",
      "metadata": {
        "id": "a3-geSqDBO3T",
        "colab_type": "code",
        "colab": {}
      },
      "source": [
        "def train_epoch(model, opt, criterion, batch_size, X_val,Y_val,X_train,Y_train):\n",
        "    model.train()\n",
        "    losses_train = []\n",
        "    losses_val = []\n",
        "    for i in range(0, X_train.size(0), batch_size):\n",
        "        X_batch = torch.autograd.Variable(X_train[i:i + batch_size, :])\n",
        "        Y_batch = torch.autograd.Variable(Y_train[i:i + batch_size, :])\n",
        "        X_val = torch.autograd.Variable(X_val)\n",
        "        Y_val = torch.autograd.Variable(Y_val)\n",
        "        opt.zero_grad()\n",
        "        y_hat = net(X_batch)\n",
        "        Y_hat_val = net(X_val)\n",
        "        loss = criterion(y_hat, Y_batch)\n",
        "        loss_val = criterion(Y_hat_val,Y_val)\n",
        "        loss.backward()\n",
        "        opt.step()        \n",
        "        losses_train.append(loss.data.numpy())\n",
        "        losses_val.append(loss_val.data.numpy())\n",
        "        print(\"TrainLoss : {}   ValidationLoss : {}\".format(loss.data.numpy(),loss_val.data.numpy()))\n",
        "    return losses_train,losses_val,loss_val,loss,y_hat,Y_hat_val"
      ],
      "execution_count": 29,
      "outputs": []
    },
    {
      "cell_type": "code",
      "metadata": {
        "id": "pwuJVIVzBTiS",
        "colab_type": "code",
        "colab": {
          "base_uri": "https://localhost:8080/",
          "height": 1000
        },
        "outputId": "feaf0bfb-122f-408c-c895-4cf8e578fc59"
      },
      "source": [
        "train_losses = []\n",
        "val_losses = []\n",
        "epoks = 5\n",
        "for e in range(epoks):\n",
        "    print(\"Epoch : {}\".format(e+1))\n",
        "    loss,loss_val,L_val,L_train,_,_ = train_epoch(net, opt, criterion,100,X_val,Y_val,X_train,Y_train)\n",
        "    train_losses += loss\n",
        "    val_losses += loss_val\n",
        "    print(\"Epoch : {}  TrainLoss : {}  ValidationLoss : {}\".format(e+1,L_train,L_val))\n",
        "plt.plot(train_losses)\n",
        "plt.plot(val_losses)\n",
        "plt.show()\n",
        "\n",
        "\n"
      ],
      "execution_count": 30,
      "outputs": [
        {
          "output_type": "stream",
          "text": [
            "Epoch : 1\n",
            "TrainLoss : 0.6924884915351868   ValidationLoss : 0.6929625272750854\n",
            "TrainLoss : 0.6906477212905884   ValidationLoss : 0.6915668249130249\n",
            "TrainLoss : 0.6888330578804016   ValidationLoss : 0.6903525590896606\n",
            "TrainLoss : 0.6849622130393982   ValidationLoss : 0.6879649758338928\n",
            "TrainLoss : 0.6760903000831604   ValidationLoss : 0.6851754188537598\n",
            "TrainLoss : 0.674502968788147   ValidationLoss : 0.6812357902526855\n",
            "TrainLoss : 0.6592703461647034   ValidationLoss : 0.6768434047698975\n",
            "TrainLoss : 0.6592982411384583   ValidationLoss : 0.677568256855011\n",
            "TrainLoss : 0.6399285793304443   ValidationLoss : 0.6706516146659851\n",
            "TrainLoss : 0.6356210708618164   ValidationLoss : 0.6607216596603394\n",
            "Epoch : 1  TrainLoss : 0.6356210708618164  ValidationLoss : 0.6607216596603394\n",
            "Epoch : 2\n",
            "TrainLoss : 0.6114511489868164   ValidationLoss : 0.6497305035591125\n",
            "TrainLoss : 0.6273980140686035   ValidationLoss : 0.647685170173645\n",
            "TrainLoss : 0.5935298800468445   ValidationLoss : 0.6268013119697571\n",
            "TrainLoss : 0.5785287022590637   ValidationLoss : 0.6090155243873596\n",
            "TrainLoss : 0.5381844639778137   ValidationLoss : 0.591201901435852\n",
            "TrainLoss : 0.5348671078681946   ValidationLoss : 0.6046321392059326\n",
            "TrainLoss : 0.4824691116809845   ValidationLoss : 0.595619261264801\n",
            "TrainLoss : 0.4640697240829468   ValidationLoss : 0.5493671298027039\n",
            "TrainLoss : 0.4487409293651581   ValidationLoss : 0.5081934928894043\n",
            "TrainLoss : 0.4245963990688324   ValidationLoss : 0.47784820199012756\n",
            "Epoch : 2  TrainLoss : 0.4245963990688324  ValidationLoss : 0.47784820199012756\n",
            "Epoch : 3\n",
            "TrainLoss : 0.3720080554485321   ValidationLoss : 0.4659503102302551\n",
            "TrainLoss : 0.3578318655490875   ValidationLoss : 0.4517306387424469\n",
            "TrainLoss : 0.3531743884086609   ValidationLoss : 0.39574047923088074\n",
            "TrainLoss : 0.32724952697753906   ValidationLoss : 0.37738704681396484\n",
            "TrainLoss : 0.2559041678905487   ValidationLoss : 0.342469185590744\n",
            "TrainLoss : 0.25956958532333374   ValidationLoss : 0.3776831328868866\n",
            "TrainLoss : 0.22270911931991577   ValidationLoss : 0.3511882424354553\n",
            "TrainLoss : 0.18255995213985443   ValidationLoss : 0.28339168429374695\n",
            "TrainLoss : 0.2279706746339798   ValidationLoss : 0.29750531911849976\n",
            "TrainLoss : 0.19556766748428345   ValidationLoss : 0.25282469391822815\n",
            "Epoch : 3  TrainLoss : 0.19556766748428345  ValidationLoss : 0.25282469391822815\n",
            "Epoch : 4\n",
            "TrainLoss : 0.16081386804580688   ValidationLoss : 0.2755202054977417\n",
            "TrainLoss : 0.15676245093345642   ValidationLoss : 0.30060142278671265\n",
            "TrainLoss : 0.18314921855926514   ValidationLoss : 0.25838515162467957\n",
            "TrainLoss : 0.1252356320619583   ValidationLoss : 0.20251287519931793\n",
            "TrainLoss : 0.15650789439678192   ValidationLoss : 0.23009765148162842\n",
            "TrainLoss : 0.08298041671514511   ValidationLoss : 0.18881238996982574\n",
            "TrainLoss : 0.06934787333011627   ValidationLoss : 0.1925530880689621\n",
            "TrainLoss : 0.12167095392942429   ValidationLoss : 0.2242216169834137\n",
            "TrainLoss : 0.08362971991300583   ValidationLoss : 0.237294003367424\n",
            "TrainLoss : 0.16332291066646576   ValidationLoss : 0.23036420345306396\n",
            "Epoch : 4  TrainLoss : 0.16332291066646576  ValidationLoss : 0.23036420345306396\n",
            "Epoch : 5\n",
            "TrainLoss : 0.09910161793231964   ValidationLoss : 0.1988781839609146\n",
            "TrainLoss : 0.051058754324913025   ValidationLoss : 0.1714257001876831\n",
            "TrainLoss : 0.1558837741613388   ValidationLoss : 0.18072322010993958\n",
            "TrainLoss : 0.1371142417192459   ValidationLoss : 0.19685620069503784\n",
            "TrainLoss : 0.04544601961970329   ValidationLoss : 0.16517657041549683\n",
            "TrainLoss : 0.05235382914543152   ValidationLoss : 0.17366479337215424\n",
            "TrainLoss : 0.04278852045536041   ValidationLoss : 0.20939643681049347\n",
            "TrainLoss : 0.1396876871585846   ValidationLoss : 0.23859556019306183\n",
            "TrainLoss : 0.052798155695199966   ValidationLoss : 0.2462751716375351\n",
            "TrainLoss : 0.1669919341802597   ValidationLoss : 0.24774867296218872\n",
            "Epoch : 5  TrainLoss : 0.1669919341802597  ValidationLoss : 0.24774867296218872\n"
          ],
          "name": "stdout"
        },
        {
          "output_type": "display_data",
          "data": {
            "image/png": "[encoded data removed]",
            "text/plain": [
              "<Figure size 432x288 with 1 Axes>"
            ]
          },
          "metadata": {
            "tags": [],
            "needs_background": "light"
          }
        }
      ]
    },
    {
      "cell_type": "code",
      "metadata": {
        "id": "GT-qj9t5Bh0O",
        "colab_type": "code",
        "colab": {}
      },
      "source": [
        "def pred(A,Y) :\n",
        "  pred = np.zeros(A.shape)\n",
        "  for i in range(0,A.shape[0]) :\n",
        "    if A[i,0] >= 0.50 :\n",
        "      pred[i,0] = 1\n",
        "  fai = np.absolute(pred - Y)\n",
        "  accuracy = 1 - (np.sum(fai)/Y.shape[0])\n",
        "  return accuracy*100,pred"
      ],
      "execution_count": 31,
      "outputs": []
    },
    {
      "cell_type": "code",
      "metadata": {
        "id": "1zj166C5T88O",
        "colab_type": "code",
        "colab": {
          "base_uri": "https://localhost:8080/",
          "height": 34
        },
        "outputId": "4f6c622a-8dbb-4337-d418-8dc5712b741e"
      },
      "source": [
        "Y_hat_train = net(X_train).detach().numpy()\n",
        "Y_hat_val = net(X_val).detach().numpy()\n",
        "Y_hat_test = net(X_test).detach().numpy()\n",
        "train_acc,_ = pred(Y_hat_train,Y_train.detach().numpy())\n",
        "val_acc,_ = pred(Y_hat_val,Y_val.detach().numpy())\n",
        "test_acc,_ = pred(Y_hat_test,Y_test.detach().numpy())\n",
        "print(\"Train accuracy : {}    Validation accuracy : {}    Test accuracy : {}\".format(train_acc,val_acc,test_acc))"
      ],
      "execution_count": 32,
      "outputs": [
        {
          "output_type": "stream",
          "text": [
            "Train accuracy : 97.8    Validation accuracy : 95.0    Test accuracy : 93.66666666666667\n"
          ],
          "name": "stdout"
        }
      ]
    },
    {
      "cell_type": "code",
      "metadata": {
        "id": "GZeRZ1QYW8gg",
        "colab_type": "code",
        "colab": {}
      },
      "source": [
        ""
      ],
      "execution_count": null,
      "outputs": []
    }
  ]
}
