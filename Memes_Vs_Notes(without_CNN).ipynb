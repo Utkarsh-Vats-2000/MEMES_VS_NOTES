{
  "nbformat": 4,
  "nbformat_minor": 0,
  "metadata": {
    "colab": {
      "name": "Memes Vs Notes(without CNN).ipynb",
      "provenance": [],
      "collapsed_sections": [],
      "authorship_tag": "ABX9TyNH7SDRBKqaxICZ3MLjW1Pu",
      "include_colab_link": true
    },
    "kernelspec": {
      "name": "python3",
      "display_name": "Python 3"
    }
  },
  "cells": [
    {
      "cell_type": "markdown",
      "metadata": {
        "id": "view-in-github",
        "colab_type": "text"
      },
      "source": [
        "<a href=\"https://colab.research.google.com/github/utkarsh8273/MEMES_VS_NOTES/blob/master/Memes_Vs_Notes(without_CNN).ipynb\" target=\"_parent\"><img src=\"https://colab.research.google.com/assets/colab-badge.svg\" alt=\"Open In Colab\"/></a>"
      ]
    },
    {
      "cell_type": "code",
      "metadata": {
        "id": "MS5UpFhm6v4K",
        "colab_type": "code",
        "colab": {}
      },
      "source": [
        "import numpy as np\n",
        "import pandas as pd\n",
        "from matplotlib import pyplot as plt\n",
        "import glob\n",
        "import cv2"
      ],
      "execution_count": 20,
      "outputs": []
    },
    {
      "cell_type": "code",
      "metadata": {
        "id": "R-R-t-v167c0",
        "colab_type": "code",
        "colab": {
          "base_uri": "https://localhost:8080/",
          "height": 34
        },
        "outputId": "35dc0533-a941-4757-dafb-839971bc7d91"
      },
      "source": [
        "from google.colab import drive\n",
        "drive.mount('/content/gdrive',force_remount=True)"
      ],
      "execution_count": 21,
      "outputs": [
        {
          "output_type": "stream",
          "text": [
            "Mounted at /content/gdrive\n"
          ],
          "name": "stdout"
        }
      ]
    },
    {
      "cell_type": "code",
      "metadata": {
        "id": "7PRWTvaw7MW_",
        "colab_type": "code",
        "colab": {
          "base_uri": "https://localhost:8080/",
          "height": 1000
        },
        "outputId": "5426e3ff-2096-4a2b-85f1-39251e961427"
      },
      "source": [
        "path_meme = glob.glob('/content/gdrive/My Drive/Stage_2/Memes/*.jpg')\n",
        "path_notes = glob.glob('/content/gdrive/My Drive/Stage_2/Notes/*.jpg')\n",
        "X_train = np.zeros((12288,1000))\n",
        "Y_train = np.zeros((1,1000))\n",
        "X_val = np.zeros((12288,300))\n",
        "Y_val = np.zeros((1,300))\n",
        "X_test = np.zeros((12288,300))\n",
        "Y_test = np.zeros((1,300))\n",
        "k = 0\n",
        "for i in path_meme :\n",
        "  img = cv2.imread(i)\n",
        "  img = np.array(cv2.resize(img,(64,64)))\n",
        "  img = img.reshape(-1)\n",
        "  if k<500 :\n",
        "    X_train[:,k] = np.copy(img)\n",
        "    Y_train[:,k] = 1\n",
        "  elif k >= 500 and k < 650:\n",
        "    X_val[:,k-500] = np.copy(img)\n",
        "    Y_val[:,k-500] = 1\n",
        "  elif k >= 650 and k < 800 :\n",
        "    X_test[:,k-650] = np.copy(img)\n",
        "    Y_test[:,k-650] = 1\n",
        "  else :\n",
        "    break\n",
        "  k = k + 1\n",
        "  print(k)\n",
        "k = 500\n",
        "for i in path_notes :\n",
        "  img = cv2.imread(i)\n",
        "  img = np.array(cv2.resize(img,(64,64)))\n",
        "  img = img.reshape(-1)\n",
        "  if k<1000 :\n",
        "    X_train[:,k] = np.copy(img)\n",
        "    Y_train[:,k] = 0\n",
        "  elif k>=1000 and k<1150 :\n",
        "    X_val[:,k-850] = np.copy(img)\n",
        "    Y_val[:,k-850] = 0\n",
        "  elif k >= 1150 and k < 1300 :\n",
        "    X_test[:,k-1000] = np.copy(img)\n",
        "    Y_test[:,k-1000] = 0\n",
        "  k = k + 1\n",
        "  print(k)\n",
        "print(X_val.shape)\n",
        "print(Y_val.shape)\n",
        "print(X_train.shape)\n",
        "print(Y_train.shape)\n",
        "print(X_test.shape)\n",
        "print(Y_test.shape)\n",
        "shuffle_index = np.random.permutation(X_train.shape[1])\n",
        "X_train,Y_train = X_train[:,shuffle_index] , Y_train[:,shuffle_index]"
      ],
      "execution_count": 22
    },
    {
      "cell_type": "code",
      "metadata": {
        "id": "6Q3LVr_b9e4g",
        "colab_type": "code",
        "colab": {
          "base_uri": "https://localhost:8080/",
          "height": 51
        },
        "outputId": "fef49aa8-8a9e-4de9-cc71-854b54c414dc"
      },
      "source": [
        "X_train = X_train/255\n",
        "X_val = X_val/255\n",
        "X_test = X_test/255\n",
        "n = X_train.shape[0]\n",
        "m = X_train.shape[1]\n",
        "print(n)\n",
        "print(m)\n",
        "def sigmoid(z) :\n",
        "  return (1/(1+np.exp(-z)))\n",
        "def relu(X) :\n",
        "  X[X<0]=0\n",
        "  return X"
      ],
      "execution_count": 23,
      "outputs": [
        {
          "output_type": "stream",
          "text": [
            "12288\n",
            "1000\n"
          ],
          "name": "stdout"
        }
      ]
    },
    {
      "cell_type": "code",
      "metadata": {
        "id": "tQqEWJK9Hop_",
        "colab_type": "code",
        "colab": {}
      },
      "source": [
        "def initialize_wts(struct) :\n",
        "  W = {}\n",
        "  b = {}\n",
        "  for i in range(1,len(struct)) :\n",
        "    W[\"W\" + str(i)] = np.random.randn(struct[i],struct[i-1])*np.sqrt(2/struct[i-1])\n",
        "    b[\"b\" + str(i)] = np.zeros((struct[i],1))\n",
        "  return W,b\n",
        "def forward_prop(X_train,W,b) :\n",
        "  return relu(np.dot(W,X_train) + b)"
      ],
      "execution_count": 24,
      "outputs": []
    },
    {
      "cell_type": "code",
      "metadata": {
        "id": "eTzxHLQaK_aQ",
        "colab_type": "code",
        "colab": {}
      },
      "source": [
        "def model(struct,X_train,Y_train,lr,num_itr,W,b,vdw,vdb) :\n",
        "  beta = 0.9\n",
        "  n = X_train.shape[0]\n",
        "  m = X_train.shape[1]\n",
        "  for k in range(0,num_itr) :\n",
        "    A = {}\n",
        "    A[\"A\" + str(0)] = X_train\n",
        "    for i in range(1,len(struct)-1) :\n",
        "      A[\"A\" + str(i)] = forward_prop(A[\"A\" + str(i-1)],W[\"W\" + str(i)],b[\"b\" + str(i)])\n",
        "    A[\"A\" + str(len(struct) - 1)] = sigmoid(np.dot(W[\"W\" + str(len(struct) - 1)] , A[\"A\" + str(len(struct) - 2)]) + b[\"b\" + str(len(struct) - 1)])\n",
        "    dW = {}\n",
        "    db = {}\n",
        "    dZ = {}\n",
        "    dZ[\"dZ\" + str(len(struct) - 1)] = A[\"A\" + str(len(struct) - 1)] - Y_train\n",
        "    dW[\"dW\" + str(len(struct) - 1)] = (1/m)*(np.dot(dZ[\"dZ\" + str(len(struct) - 1)],A[\"A\" + str(len(struct) - 2)].T))\n",
        "    db[\"db\" + str(len(struct) - 1)] = (1/m)*(np.sum(dZ[\"dZ\" + str(len(struct) - 1)],axis = 1, keepdims = True))\n",
        "    for i in range(0,len(W) - 1) :\n",
        "      dZ[\"dZ\" + str(len(W) - 1 - i)] = np.dot(W[\"W\" + str(len(W) - i)].T,dZ[\"dZ\" + str(len(W) - i)])*np.int64(A[\"A\" + str(len(W) - 1 - i)] > 0)\n",
        "      dW[\"dW\" + str(len(W) - 1 - i)] = (1/m)*np.dot(dZ[\"dZ\" + str(len(W) - 1 - i)] , A[\"A\" + str(len(W) - 1 - i - 1)].T)\n",
        "      db[\"db\" + str(len(W) - i - 1)] = (1/m)*np.sum(dZ[\"dZ\" + str(len(W) - 1 - i)],axis = 1,keepdims = True)\n",
        "    for i in range(1,len(W) + 1) :\n",
        "      vdw[\"vdw\" + str(i)] = beta*vdw[\"vdw\" + str(i)] + (1-beta)*dW[\"dW\" + str(i)]\n",
        "      vdb[\"vdb\" + str(i)] = beta*vdb[\"vdb\" + str(i)] + (1-beta)*db[\"db\" + str(i)]\n",
        "      W[\"W\" + str(i)] = W[\"W\" + str(i)] - lr*vdw[\"vdw\" + str(i)]\n",
        "      b[\"b\" + str(i)] = b[\"b\" + str(i)] - lr*vdb[\"vdb\" + str(i)]\n",
        "    cost = (-1/m)*(np.dot(Y_train,np.log(A[\"A\" + str(len(struct) - 1)]).T) + np.dot(1 - Y_train,np.log(1 - A[\"A\" + str(len(struct) - 1)]).T))\n",
        "  return W,b,A[\"A\" + str(len(struct) - 1)],cost,vdw,vdb"
      ],
      "execution_count": 25,
      "outputs": []
    },
    {
      "cell_type": "code",
      "metadata": {
        "id": "XXI9KoAjLD7j",
        "colab_type": "code",
        "colab": {}
      },
      "source": [
        "def train(struct,X_train,Y_train,lr,epochs,batch_size) :\n",
        "  W,b = initialize_wts(struct)\n",
        "  vdw = {}\n",
        "  vdb = {}\n",
        "  cost_train = []\n",
        "  cost_val = []\n",
        "  for i in range(1,len(W) + 1) :\n",
        "    vdw[\"vdw\" + str(i)] = 0\n",
        "    vdb[\"vdb\" + str(i)] = 0\n",
        "  for j in range(epochs) :\n",
        "    for k in range(1,int(X_train.shape[1]/batch_size)+1) :\n",
        "      X = X_train[:,(k-1)*batch_size:k*batch_size]\n",
        "      Y = Y_train[:,(k-1)*batch_size:k*batch_size]\n",
        "      W,b,A,cost_t,vdw,vdb = model(struct , X , Y ,lr, num_itr = 1,W = W,b = b,vdw = vdw,vdb = vdb)\n",
        "      A_val = {}\n",
        "      A_val[\"A\" + str(0)] = X_val\n",
        "      for i in range(1,len(struct)-1) :\n",
        "        A_val[\"A\" + str(i)] = forward_prop(A_val[\"A\" + str(i-1)],W[\"W\" + str(i)],b[\"b\" + str(i)])\n",
        "      A_val[\"A\" + str(len(struct) - 1)] = sigmoid(np.dot(W[\"W\" + str(len(struct) - 1)] , A_val[\"A\" + str(len(struct) - 2)]) + b[\"b\" + str(len(struct) - 1)])\n",
        "      cost_v = (-1/X_val.shape[1])*(np.dot(Y_val,np.log(A_val[\"A\" + str(len(struct) - 1)]).T) + np.dot(1 - Y_val,np.log(1 - A_val[\"A\" + str(len(struct) - 1)]).T))\n",
        "      cost_train.append(float(cost_t))\n",
        "      cost_val.append(float(cost_v))\n",
        "      print(\"Epoch : {}  Data Passed ({}/{})  Training Loss : {}  Validaton Loss : {}\".format(j+1,k*batch_size,X_train.shape[1],float(cost_t),float(cost_v)))\n",
        "  plt.plot(list(range(epochs*(int(X_train.shape[1]/batch_size)))),cost_train)\n",
        "  plt.plot(list(range(epochs*(int(X_train.shape[1]/batch_size)))),cost_val)\n",
        "  plt.show()\n",
        "  return W,b,A"
      ],
      "execution_count": 26,
      "outputs": []
    },
    {
      "cell_type": "code",
      "metadata": {
        "id": "irqu-jMELXmE",
        "colab_type": "code",
        "colab": {
          "base_uri": "https://localhost:8080/",
          "height": 1000
        },
        "outputId": "305b0f5b-e3ed-4162-f098-cee47b650ceb"
      },
      "source": [
        "W,b,A = train([n,6000,2000,1000,500,100,20,1],X_train,Y_train,0.01,5,100)"
      ],
      "execution_count": 27,
      "outputs": [
        {
          "output_type": "stream",
          "text": [
            "Epoch : 1  Data Passed (100/1000)  Training Loss : 0.7155883306420319  Validaton Loss : 0.7206627604820839\n",
            "Epoch : 1  Data Passed (200/1000)  Training Loss : 0.5982121158262442  Validaton Loss : 0.6931891299041867\n",
            "Epoch : 1  Data Passed (300/1000)  Training Loss : 0.5604117088265855  Validaton Loss : 0.6167572325023558\n",
            "Epoch : 1  Data Passed (400/1000)  Training Loss : 0.4661058537644042  Validaton Loss : 0.5670537558372891\n",
            "Epoch : 1  Data Passed (500/1000)  Training Loss : 0.4409758397549999  Validaton Loss : 0.5276784957366192\n",
            "Epoch : 1  Data Passed (600/1000)  Training Loss : 0.41732670231478736  Validaton Loss : 0.4894620403466572\n",
            "Epoch : 1  Data Passed (700/1000)  Training Loss : 0.3511615799115072  Validaton Loss : 0.45960111049153857\n",
            "Epoch : 1  Data Passed (800/1000)  Training Loss : 0.34411502679857964  Validaton Loss : 0.41994933878610163\n",
            "Epoch : 1  Data Passed (900/1000)  Training Loss : 0.30078469843374706  Validaton Loss : 0.3868604088198552\n",
            "Epoch : 1  Data Passed (1000/1000)  Training Loss : 0.24219286078004448  Validaton Loss : 0.3629838722457867\n",
            "Epoch : 2  Data Passed (100/1000)  Training Loss : 0.24305725578945275  Validaton Loss : 0.3392991432824356\n",
            "Epoch : 2  Data Passed (200/1000)  Training Loss : 0.18719417140435968  Validaton Loss : 0.3264103255982908\n",
            "Epoch : 2  Data Passed (300/1000)  Training Loss : 0.17319791021835726  Validaton Loss : 0.31603887620725035\n",
            "Epoch : 2  Data Passed (400/1000)  Training Loss : 0.18583207587619774  Validaton Loss : 0.3000064382275485\n",
            "Epoch : 2  Data Passed (500/1000)  Training Loss : 0.20907726993397968  Validaton Loss : 0.28394231029095957\n",
            "Epoch : 2  Data Passed (600/1000)  Training Loss : 0.1804915723569619  Validaton Loss : 0.26912164918723547\n",
            "Epoch : 2  Data Passed (700/1000)  Training Loss : 0.17119424874945033  Validaton Loss : 0.2621045624365453\n",
            "Epoch : 2  Data Passed (800/1000)  Training Loss : 0.14091910592748988  Validaton Loss : 0.25468959113043677\n",
            "Epoch : 2  Data Passed (900/1000)  Training Loss : 0.1402642290452675  Validaton Loss : 0.2545580878363659\n",
            "Epoch : 2  Data Passed (1000/1000)  Training Loss : 0.0985280253366503  Validaton Loss : 0.25258655428804344\n",
            "Epoch : 3  Data Passed (100/1000)  Training Loss : 0.14916898333814088  Validaton Loss : 0.22606673396875168\n",
            "Epoch : 3  Data Passed (200/1000)  Training Loss : 0.08255852826581009  Validaton Loss : 0.2151556062627385\n",
            "Epoch : 3  Data Passed (300/1000)  Training Loss : 0.08194541141754386  Validaton Loss : 0.20942248308002273\n",
            "Epoch : 3  Data Passed (400/1000)  Training Loss : 0.11442408812661702  Validaton Loss : 0.2032856292980436\n",
            "Epoch : 3  Data Passed (500/1000)  Training Loss : 0.14448926651755173  Validaton Loss : 0.19936110966567608\n",
            "Epoch : 3  Data Passed (600/1000)  Training Loss : 0.10698621146052055  Validaton Loss : 0.19612794206485396\n",
            "Epoch : 3  Data Passed (700/1000)  Training Loss : 0.10925834270951144  Validaton Loss : 0.20356013550393928\n",
            "Epoch : 3  Data Passed (800/1000)  Training Loss : 0.07893907211274531  Validaton Loss : 0.20473142603386246\n",
            "Epoch : 3  Data Passed (900/1000)  Training Loss : 0.0833406975162037  Validaton Loss : 0.20056845967236178\n",
            "Epoch : 3  Data Passed (1000/1000)  Training Loss : 0.04623192992684985  Validaton Loss : 0.19525816389860154\n",
            "Epoch : 4  Data Passed (100/1000)  Training Loss : 0.10023732707885526  Validaton Loss : 0.1782067763605047\n",
            "Epoch : 4  Data Passed (200/1000)  Training Loss : 0.050762697391672836  Validaton Loss : 0.17485079923616387\n",
            "Epoch : 4  Data Passed (300/1000)  Training Loss : 0.050081465195808125  Validaton Loss : 0.17389651400883127\n",
            "Epoch : 4  Data Passed (400/1000)  Training Loss : 0.08837861676613055  Validaton Loss : 0.17140214637197304\n",
            "Epoch : 4  Data Passed (500/1000)  Training Loss : 0.1135035813332959  Validaton Loss : 0.16985543538511996\n",
            "Epoch : 4  Data Passed (600/1000)  Training Loss : 0.08219063410151257  Validaton Loss : 0.16783336069726304\n",
            "Epoch : 4  Data Passed (700/1000)  Training Loss : 0.0930274177073968  Validaton Loss : 0.17608050113516974\n",
            "Epoch : 4  Data Passed (800/1000)  Training Loss : 0.05057016419104482  Validaton Loss : 0.18843466459288064\n",
            "Epoch : 4  Data Passed (900/1000)  Training Loss : 0.057418657790244486  Validaton Loss : 0.194636335332246\n",
            "Epoch : 4  Data Passed (1000/1000)  Training Loss : 0.030130533824125783  Validaton Loss : 0.1954309095195237\n",
            "Epoch : 5  Data Passed (100/1000)  Training Loss : 0.08852677581452532  Validaton Loss : 0.1674869685804418\n",
            "Epoch : 5  Data Passed (200/1000)  Training Loss : 0.03182948518124627  Validaton Loss : 0.15987610688767379\n",
            "Epoch : 5  Data Passed (300/1000)  Training Loss : 0.03636424620942365  Validaton Loss : 0.15973564238305923\n",
            "Epoch : 5  Data Passed (400/1000)  Training Loss : 0.07477512975532828  Validaton Loss : 0.16158539065809296\n",
            "Epoch : 5  Data Passed (500/1000)  Training Loss : 0.10330459593418091  Validaton Loss : 0.1583559782740393\n",
            "Epoch : 5  Data Passed (600/1000)  Training Loss : 0.06848556191949356  Validaton Loss : 0.16096817858252171\n",
            "Epoch : 5  Data Passed (700/1000)  Training Loss : 0.07439251955401058  Validaton Loss : 0.18300992871450472\n",
            "Epoch : 5  Data Passed (800/1000)  Training Loss : 0.041822878602104104  Validaton Loss : 0.19879405310363013\n",
            "Epoch : 5  Data Passed (900/1000)  Training Loss : 0.048004390587413986  Validaton Loss : 0.19314594947736377\n",
            "Epoch : 5  Data Passed (1000/1000)  Training Loss : 0.022493207801801935  Validaton Loss : 0.18387623834346772\n"
          ],
          "name": "stdout"
        },
        {
          "output_type": "display_data",
          "data": {
            "image/png": "[encoded data removed]",
            "text/plain": [
              "<Figure size 432x288 with 1 Axes>"
            ]
          },
          "metadata": {
            "tags": [],
            "needs_background": "light"
          }
        }
      ]
    },
    {
      "cell_type": "code",
      "metadata": {
        "id": "CXeWUKd7OUsh",
        "colab_type": "code",
        "colab": {
          "base_uri": "https://localhost:8080/",
          "height": 68
        },
        "outputId": "4c71c505-7353-4a9a-c2c9-c14f8d91f0c8"
      },
      "source": [
        "def modelp(X_train,Y_train,W,b) :\n",
        "  strr = len(W) + 1\n",
        "  n = X_train.shape[0]\n",
        "  m = X_train.shape[1]\n",
        "  A = {}\n",
        "  A[\"A\" + str(0)] = X_train\n",
        "  for i in range(1,strr-1) :\n",
        "    A[\"A\" + str(i)] = forward_prop(A[\"A\" + str(i-1)],W[\"W\" + str(i)],b[\"b\" + str(i)])\n",
        "  A[\"A\" + str(strr - 1)] = sigmoid(np.dot(W[\"W\" + str(strr - 1)] , A[\"A\" + str(strr - 2)]) + b[\"b\" + str(strr - 1)])\n",
        "  return A[\"A\" + str(strr - 1)]\n",
        "def pred(A,Y) :\n",
        "  pred = np.zeros(A.shape)\n",
        "  for i in range(0,A.shape[1]) :\n",
        "    if A[0,i] >= 0.50 :\n",
        "      pred[0,i] = 1\n",
        "  fai = np.absolute(pred - Y)\n",
        "  accuracy = 1 - (np.sum(fai)/Y.shape[1])\n",
        "  return accuracy*100\n",
        "A_train = modelp(X_train , Y_train ,W,b)\n",
        "Acc_train = pred(A_train,Y_train)\n",
        "print(\"Train accuracy is \", Acc_train)\n",
        "A_val = modelp(X_val , Y_val ,W,b)\n",
        "Acc_val = pred(A_val,Y_val)\n",
        "print(\"Validation accuracy is \", Acc_val)\n",
        "A_test = modelp(X_test , Y_test ,W,b)\n",
        "Acc_test = pred(A_test,Y_test)\n",
        "print(\"Test accuracy is \", Acc_test)"
      ],
      "execution_count": 28,
      "outputs": [
        {
          "output_type": "stream",
          "text": [
            "Train accuracy is  99.1\n",
            "Validation accuracy is  94.33333333333334\n",
            "Test accuracy is  93.33333333333333\n"
          ],
          "name": "stdout"
        }
      ]
    },
    {
      "cell_type": "code",
      "metadata": {
        "id": "R7gFzLXWsqxI",
        "colab_type": "code",
        "colab": {}
      },
      "source": [
        ""
      ],
      "execution_count": null,
      "outputs": []
    },
    {
      "cell_type": "code",
      "metadata": {
        "id": "iT4aF_0daWQc",
        "colab_type": "code",
        "colab": {}
      },
      "source": [
        ""
      ],
      "execution_count": null,
      "outputs": []
    }
  ]
}
